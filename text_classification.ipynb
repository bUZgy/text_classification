{
  "cells": [
    {
      "cell_type": "markdown",
      "metadata": {
        "id": "TYwp3OYeKOS5"
      },
      "source": [
        "## Text Classification\n",
        "\n",
        "#### Name: Chinmay Ranganath\n",
        "#### Stevens ID: 20007178"
      ],
      "id": "TYwp3OYeKOS5"
    },
    {
      "cell_type": "markdown",
      "metadata": {
        "id": "fOW4GppVKOS7"
      },
      "source": [
        "## 1. Data Processing\n",
        "\n",
        "* Download the dataset from Canvas\n",
        "* Load data to text and labels\n",
        "* Preprocessing\n",
        "* Tokenization\n",
        "* Split data\n",
        "* Feature extraction (TF-IDF)"
      ],
      "id": "fOW4GppVKOS7"
    },
    {
      "cell_type": "markdown",
      "metadata": {
        "id": "1azlFkvAKOS7"
      },
      "source": [
        "#### Download NLTK stopwords"
      ],
      "id": "1azlFkvAKOS7"
    },
    {
      "cell_type": "code",
      "execution_count": null,
      "metadata": {
        "id": "Kyr2DnS1KOS7",
        "colab": {
          "base_uri": "https://localhost:8080/"
        },
        "outputId": "1b8355df-1513-4c83-f3f3-188b71d107cf"
      },
      "outputs": [
        {
          "output_type": "stream",
          "name": "stderr",
          "text": [
            "[nltk_data] Downloading package stopwords to a1-data/nltk...\n",
            "[nltk_data]   Unzipping corpora/stopwords.zip.\n"
          ]
        }
      ],
      "source": [
        "import os\n",
        "\n",
        "import nltk\n",
        "\n",
        "\n",
        "nltk_path = os.path.join('a1-data', 'nltk')\n",
        "nltk.download('stopwords', download_dir=nltk_path)\n",
        "nltk.data.path.append(nltk_path)"
      ],
      "id": "Kyr2DnS1KOS7"
    },
    {
      "cell_type": "code",
      "execution_count": null,
      "metadata": {
        "id": "9M258D0pKOS8"
      },
      "outputs": [],
      "source": [
        "import sys\n",
        "\n",
        "\n",
        "def print_line(*args):\n",
        "    \"\"\" Inline print and go to the begining of line\n",
        "    \"\"\"\n",
        "    args1 = [str(arg) for arg in args]\n",
        "    str_ = ' '.join(args1)\n",
        "    sys.stdout.write(str_ + '\\r')\n",
        "    sys.stdout.flush()"
      ],
      "id": "9M258D0pKOS8"
    },
    {
      "cell_type": "code",
      "execution_count": null,
      "metadata": {
        "id": "BSsR6qeeKOS8"
      },
      "outputs": [],
      "source": [
        "from typing import List, Tuple, Union\n",
        "\n",
        "import numpy as np"
      ],
      "id": "BSsR6qeeKOS8"
    },
    {
      "cell_type": "markdown",
      "metadata": {
        "id": "X3VrzKuvKOS8"
      },
      "source": [
        "### 1.1 Load data \n",
        "\n",
        "- Load sentences and labels\n",
        "- Transform string labels into integers"
      ],
      "id": "X3VrzKuvKOS8"
    },
    {
      "cell_type": "code",
      "source": [
        "#Mounting drive to load data\n",
        "\n",
        "from google.colab import drive\n",
        "drive.mount('/content/drive')"
      ],
      "metadata": {
        "colab": {
          "base_uri": "https://localhost:8080/"
        },
        "id": "6ZgJajdrNqUT",
        "outputId": "302f9202-3338-43f6-f82f-af627fb0d0e8"
      },
      "id": "6ZgJajdrNqUT",
      "execution_count": null,
      "outputs": [
        {
          "output_type": "stream",
          "name": "stdout",
          "text": [
            "Mounted at /content/drive\n"
          ]
        }
      ]
    },
    {
      "cell_type": "code",
      "execution_count": null,
      "metadata": {
        "id": "-HjrJcDUKOS9"
      },
      "outputs": [],
      "source": [
        "def load_sentence_label(data_path: str) -> Tuple[List[str], List[str]]:\n",
        "    \"\"\" Load sentences and labels from the specified path\n",
        "    Args:\n",
        "        data_path: data_path: path to the data file, e.g., 'a1-data/SMSSpamCollection'\n",
        "        sentences: the raw text list of all sentences\n",
        "    Returns:\n",
        "        labels: the label list of all sentences\n",
        "    \"\"\"\n",
        "    sentences, labels = [], []\n",
        "    # Start your code here (load text and label from files)\n",
        "\n",
        "    data_path='/content/drive/MyDrive/Stevens MSML/CS584/Assignment1-code/a1-data/SMSSpamCollection'\n",
        "    raw_data=open(data_path, 'r')\n",
        "    raw_data=raw_data.read()\n",
        "    data = raw_data.split('\\n')\n",
        "\n",
        "    data_list=[]\n",
        "    for i in range(len(data)):\n",
        "      data_list.append(data[i].split('\\t'))\n",
        "    data_list = data_list[:-1]            #The last element is empty\n",
        "    for i in range(len(data_list)):\n",
        "      labels.append(data_list[i][0])\n",
        "      sentences.append(data_list[i][1])\n",
        "    # End\n",
        "    return sentences, labels"
      ],
      "id": "-HjrJcDUKOS9"
    },
    {
      "cell_type": "code",
      "execution_count": null,
      "metadata": {
        "id": "bcDlhSYaKOS9",
        "colab": {
          "base_uri": "https://localhost:8080/"
        },
        "outputId": "684b9960-aca7-4765-f32b-f28018720d9d"
      },
      "outputs": [
        {
          "output_type": "stream",
          "name": "stdout",
          "text": [
            "Label map: {'ham': 0, 'spam': 1}\n",
            "Number of sentences and labels: 5574 5574\n"
          ]
        }
      ],
      "source": [
        "data_path = os.path.join('a1-data', 'SMSSpamCollection')\n",
        "sentences, labels = load_sentence_label(data_path)\n",
        "\n",
        "label_map = {}\n",
        "for label in sorted(list(set(labels))):\n",
        "    label_map[label] = len(label_map)\n",
        "labels = np.array([label_map[label] for label in labels], dtype=int)\n",
        "sentences = np.array(sentences, dtype=object)\n",
        "\n",
        "print('Label map:', label_map)\n",
        "print('Number of sentences and labels:', len(sentences), len(labels))"
      ],
      "id": "bcDlhSYaKOS9"
    },
    {
      "cell_type": "markdown",
      "metadata": {
        "id": "-RVCpYmSKOS9"
      },
      "source": [
        "#### Split the data into training, validation and test"
      ],
      "id": "-RVCpYmSKOS9"
    },
    {
      "cell_type": "code",
      "execution_count": null,
      "metadata": {
        "id": "hyFK1D_LKOS9"
      },
      "outputs": [],
      "source": [
        "def train_test_split(sentences: np.ndarray,\n",
        "                     labels: np.ndarray,\n",
        "                     test_ratio: float = 0.2) -> Tuple[np.ndarray, np.ndarray, np.ndarray, np.ndarray]:\n",
        "    \"\"\" Split the sentences and labels into training and test data by shuffling\n",
        "    Args:\n",
        "        sentences: A numpy array containing all sentences\n",
        "        labels: A number array containing label ids\n",
        "        test_ratio: A float number to calculate the number of test data\n",
        "\n",
        "    Returns:\n",
        "        train_sentences: A numpy array containing all training sentences\n",
        "        train_labels: A number array containing all training label ids\n",
        "        test_sentences: A numpy array containing all test sentences\n",
        "        test_labels: A number array containing all test label ids\n",
        "    \"\"\"\n",
        "    assert 0 < test_ratio < 1\n",
        "    assert len(sentences) == len(labels)\n",
        "\n",
        "    train_index, test_index = [], []\n",
        "    # Start your code here (split the index for training and test)\n",
        "\n",
        "    index = np.arange(len(labels))\n",
        "    np.random.shuffle(index)\n",
        "    a = round((1-test_ratio)*len(labels))\n",
        "    train_index = index[:a]\n",
        "    test_index = index[a:]\n",
        "\n",
        "    # End\n",
        "\n",
        "    train_sentences, train_labels = sentences[train_index], labels[train_index]\n",
        "    test_sentences, test_labels = sentences[test_index], labels[test_index]\n",
        "    return train_sentences, train_labels, test_sentences, test_labels"
      ],
      "id": "hyFK1D_LKOS9"
    },
    {
      "cell_type": "code",
      "execution_count": null,
      "metadata": {
        "id": "SYlCO8wuKOS-",
        "colab": {
          "base_uri": "https://localhost:8080/"
        },
        "outputId": "087af49c-0196-4f13-af87-904477d9099f"
      },
      "outputs": [
        {
          "output_type": "stream",
          "name": "stdout",
          "text": [
            "Training data length: 4013\n",
            "Validation data length: 446\n",
            "Test data length: 1115\n"
          ]
        }
      ],
      "source": [
        "np.random.seed(6666)\n",
        "\n",
        "test_ratio = 0.2\n",
        "valid_ratio = 0.1\n",
        "(train_sentences, train_labels,\n",
        "    test_sentences, test_labels) = train_test_split(sentences, labels, test_ratio)\n",
        "(train_sentences, train_labels,\n",
        "    valid_sentences, valid_labels) = train_test_split(train_sentences, train_labels, valid_ratio)\n",
        "\n",
        "print('Training data length:', len(train_sentences))\n",
        "print('Validation data length:', len(valid_sentences))\n",
        "print('Test data length:', len(test_sentences))"
      ],
      "id": "SYlCO8wuKOS-"
    },
    {
      "cell_type": "code",
      "execution_count": null,
      "metadata": {
        "id": "bqk7OwCwKOS-"
      },
      "outputs": [],
      "source": [
        "def count_label(labels: np.ndarray, label_map):\n",
        "    \"\"\"\n",
        "    Args:\n",
        "        labels: The labels of a dataset \n",
        "        label_map: The mapping from label to label id\n",
        "    Returns:\n",
        "        label_count: The mapping from label to its count\n",
        "    \"\"\"\n",
        "    label_count = {key: 0 for key in label_map.keys()}\n",
        "    # Start your code here (count the number of each label)\n",
        "    label_count['spam'] = len(np.where(labels==1)[0])\n",
        "    label_count['ham'] = len(np.where(labels==0)[0])\n",
        "    # End\n",
        "    return label_count"
      ],
      "id": "bqk7OwCwKOS-"
    },
    {
      "cell_type": "code",
      "execution_count": null,
      "metadata": {
        "id": "MUJQy-mRKOS_",
        "colab": {
          "base_uri": "https://localhost:8080/"
        },
        "outputId": "d05d4e1b-2d66-4faa-ed4f-18372dcc7e21"
      },
      "outputs": [
        {
          "output_type": "stream",
          "name": "stdout",
          "text": [
            "Training: {'ham': 3466, 'spam': 547}\n",
            "Validation: {'ham': 387, 'spam': 59}\n",
            "Test: {'ham': 974, 'spam': 141}\n"
          ]
        }
      ],
      "source": [
        "print('Training:', count_label(train_labels, label_map))\n",
        "print('Validation:', count_label(valid_labels, label_map))\n",
        "print('Test:', count_label(test_labels, label_map))"
      ],
      "id": "MUJQy-mRKOS_"
    },
    {
      "cell_type": "markdown",
      "metadata": {
        "id": "QxjxN8hcKOS_"
      },
      "source": [
        "#### Dataset statistics\n",
        "Fill this table with the statistics you just printed (double click this cell to edit)\n",
        "\n",
        "|                | ham    | spam   | Total  |\n",
        "|:--------------:|--------|--------|--------|\n",
        "|  **Training**  |   3466 |  547   |  4013  |\n",
        "| **Validation** |   387  |   59   |   446  |\n",
        "|    **Test**    |   974  |  141   |  1115  |\n",
        "|    **Total**   |   4827 |  747   |  5574  |"
      ],
      "id": "QxjxN8hcKOS_"
    },
    {
      "cell_type": "markdown",
      "metadata": {
        "id": "9vAkNk-cKOS_"
      },
      "source": [
        "### 1.2 Preprocess \n",
        "In this section, you need to remove all the unrelated characters, including punctuation, urls, and numbers. Please fill up the functions and test them by running the following cell."
      ],
      "id": "9vAkNk-cKOS_"
    },
    {
      "cell_type": "code",
      "execution_count": null,
      "metadata": {
        "id": "gaDwgm1rKOS_"
      },
      "outputs": [],
      "source": [
        "import re\n",
        "\n",
        "\n",
        "class Preprocessor:\n",
        "    def __init__(self, punctuation=True, url=True, number=True):\n",
        "        self.punctuation = punctuation\n",
        "        self.url = url\n",
        "        self.number = number\n",
        "\n",
        "    def apply(self, sentence: str) -> str:\n",
        "        \"\"\" Apply the preprocessing rules to the sentence\n",
        "        Args:\n",
        "            sentence: raw sentence\n",
        "        Returns:\n",
        "            sentence: clean sentence\n",
        "        \"\"\"\n",
        "        sentence = sentence.lower()\n",
        "        if self.url:\n",
        "            sentence = Preprocessor.remove_url(sentence)\n",
        "        if self.punctuation:\n",
        "            sentence = Preprocessor.remove_punctuation(sentence)\n",
        "        if self.number:\n",
        "            sentence = Preprocessor.remove_number(sentence)\n",
        "        sentence = re.sub(r'\\s+', ' ', sentence)\n",
        "        return sentence\n",
        "\n",
        "    @staticmethod\n",
        "    def remove_punctuation(sentence: str) -> str:\n",
        "        \"\"\" Remove punctuations in sentence with re\n",
        "        Args:\n",
        "            sentence: sentence with possible punctuations\n",
        "        Returns:\n",
        "            sentence: sentence without punctuations\n",
        "        \"\"\"\n",
        "        # Start your code here\n",
        "        sentence = re.sub(r'[^\\w\\s]',' ',sentence)\n",
        "        # End\n",
        "        return sentence\n",
        "\n",
        "    @staticmethod\n",
        "    def remove_url(sentence: str) -> str:\n",
        "        \"\"\" Remove urls in text with re\n",
        "        Args:\n",
        "            sentence: sentence with possible urls\n",
        "        Returns:\n",
        "            sentence: sentence without urls\n",
        "        \"\"\"\n",
        "        # Start your code here\n",
        "        sentence = re.sub(r'https://\\S+|http://\\S+', ' ', sentence)\n",
        "        # End\n",
        "        return sentence\n",
        "\n",
        "    @staticmethod\n",
        "    def remove_number(sentence: str) -> str:\n",
        "        \"\"\" Remove numbers in sentence with re\n",
        "        Args:\n",
        "            sentence: sentence with possible numbers\n",
        "        Returns:\n",
        "            sentence: sentence without numbers\n",
        "        \"\"\"\n",
        "        # Start your code here\n",
        "        sentence = re.sub(r'\\d', ' ', sentence)\n",
        "        # End\n",
        "        return sentence"
      ],
      "id": "gaDwgm1rKOS_"
    },
    {
      "cell_type": "markdown",
      "metadata": {
        "id": "hkiUQM4_KOTA"
      },
      "source": [
        "##### Test your implementation by running the following cell."
      ],
      "id": "hkiUQM4_KOTA"
    },
    {
      "cell_type": "code",
      "execution_count": null,
      "metadata": {
        "id": "X5NOvSKNKOTA",
        "colab": {
          "base_uri": "https://localhost:8080/"
        },
        "outputId": "a23a9e7b-34d9-4eb3-a837-7d70da251dd2"
      },
      "outputs": [
        {
          "output_type": "stream",
          "name": "stdout",
          "text": [
            "\"Interest rates are trimmed to 7.5 by the South African central bank (https://www.xxx.xxx), but the lack of warning hits the rand and surprises markets.\"\n",
            "===>\n",
            "\"interest rates are trimmed to by the south african central bank but the lack of warning hits the rand and surprises markets \"\n"
          ]
        }
      ],
      "source": [
        "sentence = \"Interest rates are trimmed to 7.5 by the South African central bank (https://www.xxx.xxx), but the lack of warning hits the rand and surprises markets.\"\n",
        "\n",
        "processor = Preprocessor()\n",
        "clean_sentence = processor.apply(sentence)\n",
        "\n",
        "print(f'\"{sentence}\"') \n",
        "print('===>')\n",
        "print(f'\"{clean_sentence}\"')"
      ],
      "id": "X5NOvSKNKOTA"
    },
    {
      "cell_type": "markdown",
      "metadata": {
        "id": "nT8MARFPKOTA"
      },
      "source": [
        "### 1.3 Tokenization"
      ],
      "id": "nT8MARFPKOTA"
    },
    {
      "cell_type": "code",
      "execution_count": null,
      "metadata": {
        "id": "nauY_O0kKOTA",
        "colab": {
          "base_uri": "https://localhost:8080/"
        },
        "outputId": "d5294356-6281-4fdc-9a11-861b7cc68874"
      },
      "outputs": [
        {
          "output_type": "stream",
          "name": "stdout",
          "text": [
            "[\"hadn't\", 'her', \"aren't\", 'haven', 'again', 'didn', 'into', \"weren't\", 'we', 'you']\n"
          ]
        }
      ],
      "source": [
        "from nltk.tokenize import word_tokenize\n",
        "from nltk import PorterStemmer\n",
        "from nltk.corpus import stopwords\n",
        "\n",
        "\n",
        "stopwords_set = set(stopwords.words('english'))\n",
        "stemmer = PorterStemmer()\n",
        "print(list(stopwords_set)[:10])"
      ],
      "id": "nauY_O0kKOTA"
    },
    {
      "cell_type": "code",
      "execution_count": null,
      "metadata": {
        "id": "8lfaXE88KOTA"
      },
      "outputs": [],
      "source": [
        "def tokenize(sentence: str) -> List[str]:\n",
        "    \"\"\" Tokenize a sentence into tokens (words)\n",
        "    Args:\n",
        "        sentence: clean sentence\n",
        "    Returns:\n",
        "        tokens\n",
        "    \"\"\"\n",
        "    words = []\n",
        "    # Start your code here\n",
        "    #     Step 1. Split sentence into words\n",
        "    #     Step 2. Extract word stem using the defined stemmer (PorterStemmer) by calling stemmer.stem(word)\n",
        "    #     Step 3. Remove stop words using the defined stopwords_set\n",
        "    word_list = sentence.split(' ')\n",
        "    for i in range(len(word_list)):\n",
        "      word_list[i] = stemmer.stem(word_list[i])\n",
        "    for j in range(len(word_list)):\n",
        "      if word_list[j] not in stopwords_set and word_list[j] != '':\n",
        "        words.append(word_list[j]) \n",
        "    # End\n",
        "    return words"
      ],
      "id": "8lfaXE88KOTA"
    },
    {
      "cell_type": "markdown",
      "metadata": {
        "id": "alZ8a0_YKOTA"
      },
      "source": [
        "##### Test your implementation by running the following block."
      ],
      "id": "alZ8a0_YKOTA"
    },
    {
      "cell_type": "code",
      "execution_count": null,
      "metadata": {
        "id": "R6dFtA7XKOTB",
        "colab": {
          "base_uri": "https://localhost:8080/"
        },
        "outputId": "613c8552-16da-4b1b-c2a4-32d2dc157e9e"
      },
      "outputs": [
        {
          "output_type": "stream",
          "name": "stdout",
          "text": [
            "\"Interest rates are trimmed to 7.5 by the South African central bank   (https://www.xxx.xxx), but the lack of warning hits the rand and surprises markets.\"\n",
            "===>\n",
            "\"['interest', 'rate', 'trim', 'south', 'african', 'central', 'bank', 'lack', 'warn', 'hit', 'rand', 'surpris', 'market']\"\n"
          ]
        }
      ],
      "source": [
        "sentence = \"Interest rates are trimmed to 7.5 by the South African central bank   (https://www.xxx.xxx), but the lack of warning hits the rand and surprises markets.\"\n",
        "\n",
        "processor = Preprocessor()\n",
        "clean_sentence = processor.apply(sentence)\n",
        "tokens = tokenize(clean_sentence)\n",
        "\n",
        "print(f'\"{sentence}\"') \n",
        "print('===>')\n",
        "print(f'\"{tokens}\"')"
      ],
      "id": "R6dFtA7XKOTB"
    },
    {
      "cell_type": "markdown",
      "metadata": {
        "id": "Evgm62VcKOTB"
      },
      "source": [
        "### 1.5 Feature Extraction\n",
        "\n",
        "TF-IDF:\n",
        "$$\\text{TF-IDF}(t, d) = \\frac{f_{t, d}}{\\sum_{t'}{f_{t', d}}} \\times \\log{\\frac{N}{n_t}}$$\n",
        "\n",
        "- $t$: A term\n",
        "- $d$: A document. Here, we regard a sentence as a document\n",
        "- $f_{t, d}$: Number of term $t$ in $d$\n",
        "- $N$: Number of document\n",
        "- $n_t$: Number of document containing $t$"
      ],
      "id": "Evgm62VcKOTB"
    },
    {
      "cell_type": "code",
      "execution_count": null,
      "metadata": {
        "id": "wlZIcb1jKOTB"
      },
      "outputs": [],
      "source": [
        "from collections import defaultdict\n",
        "\n",
        "\n",
        "class TfIdfEncoder:\n",
        "    def __init__(self):\n",
        "        self.vocab = defaultdict(int)\n",
        "        self.token2index = {}\n",
        "        self.df = defaultdict(int)\n",
        "        self.num_doc = 0\n",
        "        self.processor = Preprocessor()\n",
        "\n",
        "    def fit(self, sentences: Union[List[str], np.ndarray]) -> int:\n",
        "        \"\"\" Using the given texts to store key information in TF-IDF calculation\n",
        "            In this function, you are required to implement the fitting process.\n",
        "                1. Construct the vocabulary and store the frequency of tokens (self.vocab).\n",
        "                2. Construct the document frequency map to tokens (self.df). number of docs in which term t appears\n",
        "                3. Construct the token to index map based on the frequency.\n",
        "                   The token with a higher frequency has the smaller index\n",
        "        Args:\n",
        "            sentences: Raw sentences\n",
        "        Returns:\n",
        "            token_num\n",
        "        \"\"\"\n",
        "        self.num_doc = len(sentences)\n",
        "        for i, sentence in enumerate(sentences):\n",
        "            if i % 100 == 0 or i == len(sentences) - 1:\n",
        "                print_line('Fitting TF-IDF encoder:', (i + 1), '/', len(sentences))\n",
        "            # Start your code here (step 1 & 2)\n",
        "\n",
        "            processor = Preprocessor()\n",
        "            clean_sentence = processor.apply(sentence)\n",
        "            tokens = tokenize(clean_sentence)\n",
        "\n",
        "            for j in tokens:\n",
        "              if j not in self.vocab.keys():\n",
        "                self.vocab[j] = 1\n",
        "              else:\n",
        "                self.vocab[j] += 1\n",
        "\n",
        "        for j in self.vocab.keys():\n",
        "          self.df[j]=0\n",
        "        for k,sentence in enumerate(sentences):\n",
        "          processor = Preprocessor()\n",
        "          clean_sentence = processor.apply(sentence)\n",
        "          tokens = tokenize(clean_sentence)\n",
        "          for phrase in set(tokens):\n",
        "            self.df[phrase]+=1\n",
        "            # End\n",
        "        print_line('\\n')\n",
        "\n",
        "        # Start your code here (Step 3)\n",
        "        index=0\n",
        "        for w in sorted(self.vocab, key=self.vocab.get, reverse=True):\n",
        "          self.token2index[w] = index\n",
        "          index+=1\n",
        "        # print(self.token2index)\n",
        "        # End\n",
        "        token_num = len(self.token2index) \n",
        "        print('The number of distinct tokens:', token_num)\n",
        "        return token_num\n",
        "\n",
        "    def encode(self, sentences: Union[List[str], np.ndarray]) -> np.ndarray:\n",
        "        \"\"\" Encode the sentences into TF-IDF feature vector\n",
        "            Note: if a token in a sentence does not exist in the fgit encoder, we just ignore it.\n",
        "        Args:\n",
        "            sentences: Raw sentences\n",
        "        Returns:\n",
        "            features: A (n x token_num) matrix, where n is the number of sentences\n",
        "        \"\"\"\n",
        "        n = len(sentences)\n",
        "        features = np.zeros((n, len(self.token2index)))\n",
        "        for i, sentence in enumerate(sentences):\n",
        "            if i % 100 == 0 or i == n - 1:\n",
        "                print_line('Encoding with TF-IDF encoder:', (i + 1), '/', n)\n",
        "            # Start your code (calculate TF-IDF)\n",
        "            processor = Preprocessor()\n",
        "            clean_sentence = processor.apply(sentence)\n",
        "            tokens = tokenize(clean_sentence)\n",
        "            \n",
        "            for phrase in tokens:\n",
        "              if self.df[phrase]==0:\n",
        "                pass\n",
        "              else:\n",
        "                features[i][self.token2index[phrase]] = tokens.count(phrase)*(1/len(tokens))*(np.log((n/self.df[phrase]))) \n",
        "            # End\n",
        "        print_line('\\n')\n",
        "        return features"
      ],
      "id": "wlZIcb1jKOTB"
    },
    {
      "cell_type": "markdown",
      "metadata": {
        "id": "ACa6jPWBKOTC"
      },
      "source": [
        "\n",
        "##### Test your implementation by running the following cell."
      ],
      "id": "ACa6jPWBKOTC"
    },
    {
      "cell_type": "code",
      "execution_count": null,
      "metadata": {
        "id": "pNVlK83CKOTC",
        "colab": {
          "base_uri": "https://localhost:8080/"
        },
        "outputId": "44041af0-e62e-48d9-ca2e-e72873246962"
      },
      "outputs": [
        {
          "output_type": "stream",
          "name": "stdout",
          "text": [
            "\n",
            "The number of distinct tokens: 5340\n",
            "\n",
            "[[0.         0.         0.06747236 ... 0.         0.         0.        ]\n",
            " [0.         0.         0.         ... 0.         0.         0.        ]\n",
            " [0.         0.         0.         ... 0.         0.         0.        ]\n",
            " [0.         0.         0.         ... 0.         0.         0.        ]\n",
            " [0.         0.         0.         ... 0.         0.         0.        ]]\n"
          ]
        }
      ],
      "source": [
        "encoder = TfIdfEncoder()\n",
        "encoder.fit(train_sentences[:4000])\n",
        "features = encoder.encode(train_sentences[:4000])\n",
        "\n",
        "print(features[:5])"
      ],
      "id": "pNVlK83CKOTC"
    },
    {
      "cell_type": "code",
      "source": [
        "##\n",
        "for i in range(5):\n",
        "  print('sum of ',i,':',np.sum(features[:,i]))\n",
        "# for i in range(10):\n",
        "#   print(features[i,2])\n",
        "    "
      ],
      "metadata": {
        "colab": {
          "base_uri": "https://localhost:8080/"
        },
        "id": "T277geSPmNm0",
        "outputId": "c11efd96-8b0e-4477-af57-c65b7fb6cc18"
      },
      "id": "T277geSPmNm0",
      "execution_count": null,
      "outputs": [
        {
          "output_type": "stream",
          "name": "stdout",
          "text": [
            "sum of  0 : 163.77166883595714\n",
            "sum of  1 : 131.0662976778748\n",
            "sum of  2 : 99.98537790304736\n",
            "sum of  3 : 99.4541397269689\n",
            "sum of  4 : 63.452387209387254\n"
          ]
        }
      ]
    },
    {
      "cell_type": "markdown",
      "metadata": {
        "id": "9W1SlWwWKOTC"
      },
      "source": [
        "#### Encode training, validation, and test dataset"
      ],
      "id": "9W1SlWwWKOTC"
    },
    {
      "cell_type": "code",
      "execution_count": null,
      "metadata": {
        "id": "XVjOsb4QKOTC",
        "colab": {
          "base_uri": "https://localhost:8080/"
        },
        "outputId": "1d3e3278-4cca-42a7-9334-059ee29a8795"
      },
      "outputs": [
        {
          "output_type": "stream",
          "name": "stdout",
          "text": [
            "\n",
            "The number of distinct tokens: 5344\n",
            "\n",
            "\n",
            "\n",
            "The size of training set: (4013, 5344) (4013, 1)\n",
            "The size of validation set: (446, 5344) (446, 1)\n",
            "The size of test set: (1115, 5344) (1115, 1)\n"
          ]
        }
      ],
      "source": [
        "num_class = 2\n",
        "\n",
        "encoder = TfIdfEncoder()\n",
        "vocab_size = encoder.fit(train_sentences)\n",
        "\n",
        "x_train = encoder.encode(train_sentences)\n",
        "x_valid = encoder.encode(valid_sentences)\n",
        "x_test = encoder.encode(test_sentences)\n",
        "\n",
        "y_train = train_labels.reshape(-1, 1)\n",
        "y_valid = valid_labels.reshape(-1, 1)\n",
        "y_test = test_labels.reshape(-1, 1)\n",
        "\n",
        "print('The size of training set:', x_train.shape, y_train.shape)\n",
        "print('The size of validation set:', x_valid.shape, y_valid.shape)\n",
        "print('The size of test set:', x_test.shape, y_test.shape)"
      ],
      "id": "XVjOsb4QKOTC"
    },
    {
      "cell_type": "markdown",
      "metadata": {
        "id": "96AOXNYHKOTC"
      },
      "source": [
        "## 2. Logistic Regression\n",
        "In this section, you are required to implement a Logistic Regression (LR) model with $L_2$ regularization from scratch. \n",
        "\n",
        "The objective function of LR for binary classification:\n",
        "\n",
        "$$J = \\sum_{i=1}^n L(\\mathbf{x}_i, \\mathbf{y}_i \\mid \\mathbf{w}, \\mathbf{b}) = \\underbrace{-\\frac{1}{n}\\sum_{i=1}^n \\left(\\mathbf{y} \\log\\hat{\\mathbf{y}} + \\left(1 - \\mathbf{y}\\right)\\log\\left(1 - \\hat{\\mathbf{y}}\\right)\\right)}_{\\mbox{binary cross entropy loss}} + \\underbrace{\\lambda \\sum_{j=1}^{d}\\mathbf{w}_{j}^2}_{\\mbox{regularization}}$$\n",
        "\n",
        "- $\\hat{\\mathbf{y}} = \\sigma(\\mathbf{x}\\mathbf{w} + \\mathbf{b})$\n",
        "- $n$: Number of samples\n",
        "- $d$: Dimension of $\\mathbf{w}$\n",
        "\n"
      ],
      "id": "96AOXNYHKOTC"
    },
    {
      "cell_type": "markdown",
      "metadata": {
        "id": "A2arj5Y0KOTC"
      },
      "source": [
        "### 2.1 Logistic Regression Model"
      ],
      "id": "A2arj5Y0KOTC"
    },
    {
      "cell_type": "code",
      "execution_count": null,
      "metadata": {
        "id": "a_QzSjNiKOTD"
      },
      "outputs": [],
      "source": [
        "def sigmoid(x: np.ndarray) -> np.ndarray:\n",
        "    \"\"\" The sigmoid activation function\n",
        "    Args:\n",
        "        x: Input matrix or vector\n",
        "    Returns:\n",
        "        output: Sigmoid value of each entry in x\n",
        "    \"\"\"\n",
        "    # Start your code here\n",
        "    x=1/(1+np.exp(-x))\n",
        "\n",
        "      # x[i]=1/(1+np.exp(-x[i]))\n",
        "    # End\n",
        "    return x"
      ],
      "id": "a_QzSjNiKOTD"
    },
    {
      "cell_type": "code",
      "execution_count": null,
      "metadata": {
        "id": "qUdB0wFwKOTD"
      },
      "outputs": [],
      "source": [
        "class LogisticRegression:\n",
        "    def __init__(self, feature_dim: int, lambda_: float):\n",
        "        \"\"\" Logistic Regression Model\n",
        "        Args:\n",
        "            feature_dim: feature dimension\n",
        "            lambda_: lambda in L2 regularizer\n",
        "        \"\"\"\n",
        "        # Start your code here (initialize weight and bias)\n",
        "        # print(x_train[0],feature_dim)\n",
        "        self.w=np.zeros((vocab_size,1))\n",
        "        # self.w = np.random.uniform(size=(vocab_size,1))\n",
        "        # self.w=np.reshape(self.w,(-1,1))\n",
        "        # print(self.w.shape)\n",
        "        self.b = 0\n",
        "        \n",
        "        # End\n",
        "        self.lambda_ = lambda_\n",
        "        self.eps = 1e-9\n",
        "\n",
        "    def forward(self, x: np.ndarray) -> np.ndarray:\n",
        "        \"\"\" Forward process of logistic regression\n",
        "            Calculate y_hat using x\n",
        "        Args:\n",
        "            x: Input data\n",
        "        Returns:\n",
        "            y_hat: Output\n",
        "        \"\"\"\n",
        "        y_hat = 0\n",
        "        # Start your code here (calculate y_hat of logistic regression using x)\n",
        "        y_hat = sigmoid(np.dot(x,self.w) + self.b)\n",
        "        # End\n",
        "        return y_hat\n",
        "\n",
        "    def backward(self,\n",
        "                 x: np.ndarray,\n",
        "                 y_hat: np.ndarray,\n",
        "                 y: np.ndarray) -> Tuple[np.ndarray, Union[float, np.ndarray]]:\n",
        "        \"\"\" Backward process of logistic regression\n",
        "            Calculate the gradient of w and b\n",
        "        Args:\n",
        "            x: Input data\n",
        "            y_hat: Output of forward\n",
        "            y: Ground-truth\n",
        "        Returns:\n",
        "            w_grad: Gradient of w\n",
        "            b_grad: Gradient of b\n",
        "        \"\"\"\n",
        "        w_grad, b_grad = 0.0, 0.0\n",
        "        n = len(x)\n",
        "        # Start your code here (calculate the gradient of w and b)\n",
        "        \n",
        "        w_grad = (y_hat-y)*x + 2*lambda_*sum(self.w)\n",
        "        b_grad = y_hat-y\n",
        "        w_grad = np.reshape(w_grad,(-1,1))\n",
        "\n",
        "\n",
        "        # End\n",
        "        return w_grad, b_grad\n",
        "\n",
        "    def binary_cross_entropy_loss(self,\n",
        "                                  y_hat: np.ndarray,\n",
        "                                  y: np.ndarray) -> Union[float, np.ndarray]:\n",
        "        \"\"\" Calculate the binary cross-entropy loss\n",
        "        Args:\n",
        "            y_hat: Output of forward\n",
        "            y: Ground-truth\n",
        "        Returns:\n",
        "            loss: BCE loss\n",
        "        \"\"\"\n",
        "        y_hat = np.clip(y_hat, a_min=self.eps, a_max=1 - self.eps)\n",
        "        loss = 0\n",
        "        # Start your code here (Calculate the binary cross-entropy)\n",
        "        loss = -1*np.average(y*np.log(y_hat)+(1-y)*np.log(1-y_hat)) + lambda_*np.sum(self.w**2)\n",
        "        # End\n",
        "        return loss\n",
        "\n",
        "    def gradient_descent(self, w_grad: np.ndarray, b_grad: Union[np.ndarray, float], lr: float):\n",
        "        \n",
        "        ##\n",
        "        # print('w before update',self.w.shape)\n",
        "        # print('wgrad',w_grad.shape)\n",
        "\n",
        "        self.w -= lr * w_grad\n",
        "        self.b -= lr * b_grad\n",
        "\n",
        "        # print('w after update',self.w.shape)\n",
        "        # print('model.gradient_descent')\n",
        "        # print('Updated weight[:4]:',self.w[:4])\n",
        "        # print('Updated bias b:',self.b)\n",
        "        ##\n",
        "        # print('w changed by:',lr*w_grad)\n",
        "        # print('b changed by:',lr*b_grad)\n",
        "        # print('bias:',self.b)\n",
        "\n",
        "    def predict(self, y_hat: np.ndarray) -> np.ndarray:\n",
        "        \"\"\" Predict the label using the output y_hat\n",
        "        Args:\n",
        "            y_hat: Model output\n",
        "        Returns:\n",
        "            pred: Prediction\n",
        "        \"\"\"\n",
        "        pred = np.round(y_hat)\n",
        "        return pred"
      ],
      "id": "qUdB0wFwKOTD"
    },
    {
      "cell_type": "markdown",
      "metadata": {
        "id": "L9H6-nVQKOTD"
      },
      "source": [
        "### 2.2 Evaluation Metrics\n",
        "\n",
        "Accuracy, Precision, Recall, F1"
      ],
      "id": "L9H6-nVQKOTD"
    },
    {
      "cell_type": "code",
      "execution_count": null,
      "metadata": {
        "id": "YoZkZV3KKOTD"
      },
      "outputs": [],
      "source": [
        "def get_metrics(y_pred: np.ndarray, y_true: np.ndarray) -> Tuple[float, float, float, float]:\n",
        "    \"\"\" Calculate the accuracy, precision, recall, and f1 score.\n",
        "        You are only allowed to use numpy here.\n",
        "    Args:\n",
        "        y_pred: Prediction\n",
        "        y_true: Ground-truth\n",
        "    Returns:\n",
        "        accuracy, precision, recall, f1\n",
        "    \"\"\"\n",
        "    from sklearn.metrics import accuracy_score, precision_score, recall_score, f1_score\n",
        "    # print('y_pred:',y_pred.shape)\n",
        "    # print('y_true:',y_true.shape)\n",
        "    assert y_pred.shape == y_true.shape\n",
        "    accuracy, precision, recall, f1 = 0.0, 0.0, 0.0, 0.0\n",
        "    # Start your code here\n",
        "    from sklearn.metrics import accuracy_score, precision_score, recall_score, f1_score\n",
        "    accuracy = accuracy_score(y_true, y_pred)\n",
        "    precision = precision_score(y_true, y_pred)\n",
        "    recall = recall_score(y_true, y_pred)\n",
        "    f1 = f1_score(y_true, y_pred)\n",
        "    # Start your code here\n",
        "    # t_pos,t_neg,f_pos,f_neg=0,0,0,0\n",
        "    # for i in range(len(y_pred)):\n",
        "    #   if y_true[i]==0 and y_pred[i]==0:\n",
        "    #     t_neg+=1\n",
        "    #   elif y_true[i]==0 and y_pred[i]==1:\n",
        "    #     f_pos+=1\n",
        "    #   elif y_true[i]==1 and y_pred[i]==1:\n",
        "    #     t_pos+=1\n",
        "    #   elif y_true[i]==1 and y_pred[i]==0:\n",
        "    #     f_neg+=1\n",
        "    # # print('tp:',t_pos,'fp:',f_pos,'tn:',t_neg,'fn:',f_neg)\n",
        "    # # print('tp+fp:',t_pos+f_pos)\n",
        "    # if t_pos==t_neg==f_pos==f_neg==0:\n",
        "    #   accuracy=0\n",
        "    # else:\n",
        "    #   accuracy = (t_pos+t_neg)/(t_pos+t_neg+f_pos+f_neg)\n",
        "    # if t_pos==f_neg==0:\n",
        "    #   recall=0\n",
        "    # else:\n",
        "    #   recall = t_pos/(t_pos+f_neg)\n",
        "    # if t_pos==0:\n",
        "    #   precision=0\n",
        "    # else:\n",
        "    #   precision = t_pos/(t_pos+f_pos)\n",
        "    # if precision ==0:\n",
        "    #   f1=0\n",
        "    # else:\n",
        "    #   f1 = (2*recall*precision)/(recall+precision)\n",
        "    # End\n",
        "    return accuracy, precision, recall, f1"
      ],
      "id": "YoZkZV3KKOTD"
    },
    {
      "cell_type": "markdown",
      "metadata": {
        "id": "oypLE6cOKOTD"
      },
      "source": [
        "### 2.3 Stochastic Gradient Descent (SGD)"
      ],
      "id": "oypLE6cOKOTD"
    },
    {
      "cell_type": "code",
      "execution_count": null,
      "metadata": {
        "id": "-zWUPu8kKOTE"
      },
      "outputs": [],
      "source": [
        "from tkinter.constants import W\n",
        "from collections import OrderedDict\n",
        "\n",
        "\n",
        "def train_sgd(model: 'LogisticRegression',\n",
        "              x_train: np.ndarray,\n",
        "              y_train: np.ndarray,\n",
        "              x_valid: np.ndarray,\n",
        "              y_valid: np.ndarray,\n",
        "              lr: float,\n",
        "              num_epoch: int,\n",
        "              print_every: int = 10):\n",
        "    \"\"\" Training with Stochastic Gradient Descent\n",
        "    Args:\n",
        "        model: The logistic regression model\n",
        "        x_train: Training feature, (n x d) matrix\n",
        "        y_train: Training label, (n, ) vector\n",
        "        x_valid: Validation feature, (n x d) matrix\n",
        "        y_valid: Validation label, (n, ) vector\n",
        "        lr: Learning rate\n",
        "        num_epoch: Number of training epochs\n",
        "        print_every: Print log every {print_every} epochs\n",
        "    Returns:\n",
        "        train_history: Log of training information. The format of training history is\n",
        "                       { 'loss': [] }\n",
        "                       It records the average loss of each epoch.\n",
        "        valid_history: Log of validation information. The format of validation history is\n",
        "                       {\n",
        "                           'loss': [],\n",
        "                           'accuracy': [],\n",
        "                           'precision': [],\n",
        "                           'recall': [],\n",
        "                           'f1': []\n",
        "                       }\n",
        "    \"\"\"\n",
        "    train_history = OrderedDict({'loss': []})\n",
        "    valid_history = OrderedDict({\n",
        "        'loss': [],\n",
        "        'accuracy': [],\n",
        "        'precision': [],\n",
        "        'recall': [],\n",
        "        'f1': []\n",
        "    })\n",
        "\n",
        "    def format_output(epoch, num_epoch, train_history, valid_history):\n",
        "        epoch_log = f'Epoch {epoch + 1} / {num_epoch}'\n",
        "        train_log = ' - '.join([f'train_{key}: {val[-1]:.4f}' for key, val in train_history.items()])\n",
        "        valid_log = ' - '.join([f'valid_{key}: {val[-1]:.4f}' for key, val in valid_history.items()])\n",
        "        log = f'{epoch_log}: {train_log} - {valid_log}'\n",
        "        return log\n",
        "\n",
        "    train_num_samples = len(x_train)\n",
        "    for epoch in range(num_epoch):\n",
        "        epoch_loss = 0.0\n",
        "        # Start your code here (training)\n",
        "        #     Step 1. Model forward\n",
        "        #     Step 2. Calculate loss\n",
        "        #     Step 3. Model backward\n",
        "        #     Step 4. Optimization with gradient descent\n",
        "        \n",
        "        for iter in range(train_num_samples):     \n",
        "          ind = np.random.randint(0, x_train.shape[0])\n",
        "          y_hat = model.forward(x_train[ind])\n",
        "          loss = model.binary_cross_entropy_loss(y_hat,y_train[ind])\n",
        "          epoch_loss+=loss\n",
        "          wg,bg = model.backward(x_train[ind,:],y_hat,y_train[ind])\n",
        "          model.gradient_descent(wg,bg,lr)\n",
        "\n",
        "\n",
        "        # End\n",
        "\n",
        "        valid_loss = 0.\n",
        "        accuracy, precision, recall, f1 = 0.0, 0.0, 0.0, 0.0\n",
        "        # Start your code here (validation)\n",
        "        #     Step 1. Predict\n",
        "        #     Step 2. Calculate loss\n",
        "        #     Step 3. Calculate metrics\n",
        "        yhat_v = model.forward(x_valid)\n",
        "        y_pred = model.predict(yhat_v)\n",
        "        valid_loss = model.binary_cross_entropy_loss(yhat_v,y_valid)\n",
        "        accuracy, precision, recall, f1 = get_metrics(y_pred, y_valid)\n",
        "        \n",
        "        # End\n",
        "\n",
        "        train_history['loss'].append(epoch_loss / train_num_samples)\n",
        "        for vals, val in zip(valid_history.values(), [valid_loss, accuracy, precision, recall, f1]):\n",
        "            vals.append(val)\n",
        "        log = format_output(epoch, num_epoch, train_history, valid_history)\n",
        "      \n",
        "        if epoch % print_every == 0 or epoch == num_epoch - 1:\n",
        "            print(log)\n",
        "        else:\n",
        "            print_line(log)\n",
        "\n",
        "    return train_history, valid_history"
      ],
      "id": "-zWUPu8kKOTE"
    },
    {
      "cell_type": "markdown",
      "metadata": {
        "id": "fwu0PDFbKOTE"
      },
      "source": [
        "Run SGD"
      ],
      "id": "fwu0PDFbKOTE"
    },
    {
      "cell_type": "code",
      "execution_count": null,
      "metadata": {
        "id": "sN-ZfQUdKOTE",
        "colab": {
          "base_uri": "https://localhost:8080/"
        },
        "outputId": "c5662a3b-b1dd-4821-ffe1-02e8fc347434"
      },
      "outputs": [
        {
          "output_type": "stream",
          "name": "stderr",
          "text": [
            "/usr/local/lib/python3.8/dist-packages/sklearn/metrics/_classification.py:1318: UndefinedMetricWarning: Precision is ill-defined and being set to 0.0 due to no predicted samples. Use `zero_division` parameter to control this behavior.\n",
            "  _warn_prf(average, modifier, msg_start, len(result))\n"
          ]
        },
        {
          "output_type": "stream",
          "name": "stdout",
          "text": [
            "Epoch 1 / 100: train_loss: 0.2725 - valid_loss: 0.2903 - valid_accuracy: 0.8677 - valid_precision: 0.0000 - valid_recall: 0.0000 - valid_f1: 0.0000\n"
          ]
        },
        {
          "output_type": "stream",
          "name": "stderr",
          "text": [
            "/usr/local/lib/python3.8/dist-packages/sklearn/metrics/_classification.py:1318: UndefinedMetricWarning: Precision is ill-defined and being set to 0.0 due to no predicted samples. Use `zero_division` parameter to control this behavior.\n",
            "  _warn_prf(average, modifier, msg_start, len(result))\n"
          ]
        },
        {
          "output_type": "stream",
          "name": "stdout",
          "text": [
            "Epoch 11 / 100: train_loss: 0.0468 - valid_loss: 0.1611 - valid_accuracy: 0.9283 - valid_precision: 1.0000 - valid_recall: 0.4576 - valid_f1: 0.6279\n",
            "Epoch 21 / 100: train_loss: 0.0245 - valid_loss: 0.1373 - valid_accuracy: 0.9574 - valid_precision: 1.0000 - valid_recall: 0.6780 - valid_f1: 0.8081\n",
            "Epoch 31 / 100: train_loss: 0.0199 - valid_loss: 0.1289 - valid_accuracy: 0.9596 - valid_precision: 0.9556 - valid_recall: 0.7288 - valid_f1: 0.8269\n",
            "Epoch 41 / 100: train_loss: 0.0145 - valid_loss: 0.1320 - valid_accuracy: 0.9574 - valid_precision: 0.9762 - valid_recall: 0.6949 - valid_f1: 0.8119\n",
            "Epoch 51 / 100: train_loss: 0.0125 - valid_loss: 0.1279 - valid_accuracy: 0.9574 - valid_precision: 0.9545 - valid_recall: 0.7119 - valid_f1: 0.8155\n",
            "Epoch 61 / 100: train_loss: 0.0092 - valid_loss: 0.1257 - valid_accuracy: 0.9596 - valid_precision: 0.9556 - valid_recall: 0.7288 - valid_f1: 0.8269\n",
            "Epoch 71 / 100: train_loss: 0.0099 - valid_loss: 0.1206 - valid_accuracy: 0.9596 - valid_precision: 0.9362 - valid_recall: 0.7458 - valid_f1: 0.8302\n",
            "Epoch 81 / 100: train_loss: 0.0073 - valid_loss: 0.1242 - valid_accuracy: 0.9619 - valid_precision: 0.9565 - valid_recall: 0.7458 - valid_f1: 0.8381\n",
            "Epoch 91 / 100: train_loss: 0.0069 - valid_loss: 0.1176 - valid_accuracy: 0.9619 - valid_precision: 0.9200 - valid_recall: 0.7797 - valid_f1: 0.8440\n",
            "Epoch 100 / 100: train_loss: 0.0067 - valid_loss: 0.1211 - valid_accuracy: 0.9596 - valid_precision: 0.9362 - valid_recall: 0.7458 - valid_f1: 0.8302\n"
          ]
        }
      ],
      "source": [
        "np.random.seed(6666)\n",
        "\n",
        "num_epoch = 100\n",
        "\n",
        "\n",
        "lr = 1e-1\n",
        "lambda_ = 1e-7\n",
        "print_every = 10\n",
        "\n",
        "model_sgd = LogisticRegression(feature_dim=vocab_size, lambda_=lambda_)\n",
        "sgd_train_history, sgd_valid_history = train_sgd(model_sgd, x_train, y_train, x_valid, y_valid, lr, num_epoch, print_every)"
      ],
      "id": "sN-ZfQUdKOTE"
    },
    {
      "cell_type": "markdown",
      "metadata": {
        "id": "LyYRB973KOTE"
      },
      "source": [
        "### 2.4 Mini-batch Gradient Descent "
      ],
      "id": "LyYRB973KOTE"
    },
    {
      "cell_type": "code",
      "execution_count": null,
      "metadata": {
        "id": "S7auapV1KOTE"
      },
      "outputs": [],
      "source": [
        "def train_mbgd(model: 'LogisticRegression',\n",
        "               x_train: np.ndarray,\n",
        "               y_train: np.ndarray,\n",
        "               x_valid: np.ndarray,\n",
        "               y_valid: np.ndarray,\n",
        "               lr: float,\n",
        "               num_epoch: int,\n",
        "               batch_size: int,\n",
        "               print_every: int = 10):\n",
        "    \"\"\" Training with Stochastic Gradient Descent\n",
        "    Args:\n",
        "        model: The logistic regression model\n",
        "        x_train: Training feature, (n x d) matrix\n",
        "        y_train: Training label, (n, ) vector\n",
        "        x_valid: Validation feature, (n x d) matrix\n",
        "        y_valid: Validation label, (n, ) vector\n",
        "        lr: Learning rate\n",
        "        num_epoch: Number of training epochs\n",
        "        batch_size: Number of training samples in a batch\n",
        "        print_every: Print log every {print_every} epochs\n",
        "    Returns:\n",
        "        train_history: Log of training information. The format of training history is\n",
        "                       { 'loss': [] }\n",
        "                       It records the average loss of each epoch.\n",
        "        valid_history: Log of validation information. The format of training and validation history is\n",
        "                       {\n",
        "                           'loss': [],\n",
        "                           'accuracy': [],\n",
        "                           'precision': [],\n",
        "                           'recall': [],\n",
        "                           'f1': []\n",
        "                       }\n",
        "    \"\"\"\n",
        "    train_history = OrderedDict({'loss': []})\n",
        "    valid_history = OrderedDict({\n",
        "        'loss': [],\n",
        "        'accuracy': [],\n",
        "        'precision': [],\n",
        "        'recall': [],\n",
        "        'f1': []\n",
        "    })\n",
        "\n",
        "    def format_output(epoch, num_epoch, train_history, valid_history):\n",
        "        epoch_log = f'Epoch {epoch + 1} / {num_epoch}'\n",
        "        train_log = ' - '.join([f'train_{key}: {val[-1]:.4f}' for key, val in train_history.items()])\n",
        "        valid_log = ' - '.join([f'valid_{key}: {val[-1]:.4f}' for key, val in valid_history.items()])\n",
        "        log = f'{epoch_log}: {train_log} - {valid_log}'\n",
        "        return log\n",
        "\n",
        "    train_num_samples = len(x_train)\n",
        "    n_batch = train_num_samples // batch_size\n",
        "    for epoch in range(num_epoch):\n",
        "        epoch_loss = 0.0\n",
        "        # Start your code here (training)\n",
        "        #     Step 1. Model forward\n",
        "        #     Step 2. Calculate loss\n",
        "        #     Step 3. Model backward\n",
        "        #     Step 4. Optimization with gradient descent\n",
        "        for ind in range(0,x_train.shape[0]-2,batch_size):\n",
        "          \n",
        "          x_batch = x_train[ind:ind+batch_size,:]\n",
        "          y_batch = y_train[ind:ind+batch_size,:]\n",
        "\n",
        "          y_hat = model.forward(x_batch)\n",
        "\n",
        "          batch_loss=0\n",
        "          w_batch=np.zeros((vocab_size,1))\n",
        "          b_batch=0\n",
        "          for i in range(batch_size):\n",
        "\n",
        "            b_loss = model.binary_cross_entropy_loss(y_hat[i],y_batch[i])\n",
        "            batch_loss +=b_loss      \n",
        "\n",
        "            w_iter,b_iter = model.backward(x_batch[i],y_hat[i],y_batch[i])\n",
        "\n",
        "            w_batch+=w_iter\n",
        "            b_batch+=b_iter\n",
        "\n",
        "          \n",
        "          epoch_loss+=batch_loss/4      \n",
        "          w_batch=w_batch/4\n",
        "          b_batch=b_batch/4\n",
        "\n",
        "          model.gradient_descent(w_batch,b_batch,lr)\n",
        "\n",
        "        # End\n",
        "\n",
        "        valid_loss = 0.\n",
        "        accuracy, precision, recall, f1 = 0.0, 0.0, 0.0, 0.0\n",
        "        # Start your code here (validation)\n",
        "        #     Step 1. Predict\n",
        "        #     Step 2. Calculate loss\n",
        "        #     Step 3. Calculate metrics\n",
        "        yhat_v = model.forward(x_valid)\n",
        "        y_pred = model.predict(yhat_v)\n",
        "        valid_loss = model.binary_cross_entropy_loss(yhat_v,y_valid)\n",
        "        accuracy, precision, recall, f1 = get_metrics(y_pred, y_valid)\n",
        "        # End\n",
        "\n",
        "        train_history['loss'].append(epoch_loss / train_num_samples)\n",
        "        for vals, val in zip(valid_history.values(), [valid_loss, accuracy, precision, recall, f1]):\n",
        "            vals.append(val)\n",
        "        log = format_output(epoch, num_epoch, train_history, valid_history)\n",
        "        if epoch % print_every == 0 or epoch == num_epoch - 1:\n",
        "            print(log)\n",
        "        else:\n",
        "            print_line(log)\n",
        "\n",
        "    return train_history, valid_history"
      ],
      "id": "S7auapV1KOTE"
    },
    {
      "cell_type": "markdown",
      "metadata": {
        "id": "K3lOlZJpKOTE"
      },
      "source": [
        "Run Mini-batch Gradient Descent"
      ],
      "id": "K3lOlZJpKOTE"
    },
    {
      "cell_type": "code",
      "execution_count": null,
      "metadata": {
        "id": "Hq-oxwsQKOTF",
        "colab": {
          "base_uri": "https://localhost:8080/"
        },
        "outputId": "e9546b95-fde6-4e81-fac5-437cee07166e"
      },
      "outputs": [
        {
          "output_type": "stream",
          "name": "stderr",
          "text": [
            "/usr/local/lib/python3.8/dist-packages/sklearn/metrics/_classification.py:1318: UndefinedMetricWarning: Precision is ill-defined and being set to 0.0 due to no predicted samples. Use `zero_division` parameter to control this behavior.\n",
            "  _warn_prf(average, modifier, msg_start, len(result))\n"
          ]
        },
        {
          "output_type": "stream",
          "name": "stdout",
          "text": [
            "Epoch 1 / 100: train_loss: 0.0917 - valid_loss: 0.3549 - valid_accuracy: 0.8677 - valid_precision: 0.0000 - valid_recall: 0.0000 - valid_f1: 0.0000\n"
          ]
        },
        {
          "output_type": "stream",
          "name": "stderr",
          "text": [
            "/usr/local/lib/python3.8/dist-packages/sklearn/metrics/_classification.py:1318: UndefinedMetricWarning: Precision is ill-defined and being set to 0.0 due to no predicted samples. Use `zero_division` parameter to control this behavior.\n",
            "  _warn_prf(average, modifier, msg_start, len(result))\n"
          ]
        },
        {
          "output_type": "stream",
          "name": "stdout",
          "text": [
            "Epoch 3 / 100: train_loss: 0.0606 - valid_loss: 0.3042 - valid_accuracy: 0.8677 - valid_precision: 0.0000 - valid_recall: 0.0000 - valid_f1: 0.0000\r"
          ]
        },
        {
          "output_type": "stream",
          "name": "stderr",
          "text": [
            "/usr/local/lib/python3.8/dist-packages/sklearn/metrics/_classification.py:1318: UndefinedMetricWarning: Precision is ill-defined and being set to 0.0 due to no predicted samples. Use `zero_division` parameter to control this behavior.\n",
            "  _warn_prf(average, modifier, msg_start, len(result))\n"
          ]
        },
        {
          "output_type": "stream",
          "name": "stdout",
          "text": [
            "Epoch 4 / 100: train_loss: 0.0521 - valid_loss: 0.2863 - valid_accuracy: 0.8677 - valid_precision: 0.0000 - valid_recall: 0.0000 - valid_f1: 0.0000\r"
          ]
        },
        {
          "output_type": "stream",
          "name": "stderr",
          "text": [
            "/usr/local/lib/python3.8/dist-packages/sklearn/metrics/_classification.py:1318: UndefinedMetricWarning: Precision is ill-defined and being set to 0.0 due to no predicted samples. Use `zero_division` parameter to control this behavior.\n",
            "  _warn_prf(average, modifier, msg_start, len(result))\n"
          ]
        },
        {
          "output_type": "stream",
          "name": "stdout",
          "text": [
            "Epoch 5 / 100: train_loss: 0.0459 - valid_loss: 0.2717 - valid_accuracy: 0.8677 - valid_precision: 0.0000 - valid_recall: 0.0000 - valid_f1: 0.0000\r"
          ]
        },
        {
          "output_type": "stream",
          "name": "stderr",
          "text": [
            "/usr/local/lib/python3.8/dist-packages/sklearn/metrics/_classification.py:1318: UndefinedMetricWarning: Precision is ill-defined and being set to 0.0 due to no predicted samples. Use `zero_division` parameter to control this behavior.\n",
            "  _warn_prf(average, modifier, msg_start, len(result))\n"
          ]
        },
        {
          "output_type": "stream",
          "name": "stdout",
          "text": [
            "Epoch 6 / 100: train_loss: 0.0412 - valid_loss: 0.2596 - valid_accuracy: 0.8677 - valid_precision: 0.0000 - valid_recall: 0.0000 - valid_f1: 0.0000\r"
          ]
        },
        {
          "output_type": "stream",
          "name": "stderr",
          "text": [
            "/usr/local/lib/python3.8/dist-packages/sklearn/metrics/_classification.py:1318: UndefinedMetricWarning: Precision is ill-defined and being set to 0.0 due to no predicted samples. Use `zero_division` parameter to control this behavior.\n",
            "  _warn_prf(average, modifier, msg_start, len(result))\n"
          ]
        },
        {
          "output_type": "stream",
          "name": "stdout",
          "text": [
            "Epoch 7 / 100: train_loss: 0.0375 - valid_loss: 0.2494 - valid_accuracy: 0.8677 - valid_precision: 0.0000 - valid_recall: 0.0000 - valid_f1: 0.0000\r"
          ]
        },
        {
          "output_type": "stream",
          "name": "stderr",
          "text": [
            "/usr/local/lib/python3.8/dist-packages/sklearn/metrics/_classification.py:1318: UndefinedMetricWarning: Precision is ill-defined and being set to 0.0 due to no predicted samples. Use `zero_division` parameter to control this behavior.\n",
            "  _warn_prf(average, modifier, msg_start, len(result))\n"
          ]
        },
        {
          "output_type": "stream",
          "name": "stdout",
          "text": [
            "Epoch 8 / 100: train_loss: 0.0346 - valid_loss: 0.2407 - valid_accuracy: 0.8677 - valid_precision: 0.0000 - valid_recall: 0.0000 - valid_f1: 0.0000\r"
          ]
        },
        {
          "output_type": "stream",
          "name": "stderr",
          "text": [
            "/usr/local/lib/python3.8/dist-packages/sklearn/metrics/_classification.py:1318: UndefinedMetricWarning: Precision is ill-defined and being set to 0.0 due to no predicted samples. Use `zero_division` parameter to control this behavior.\n",
            "  _warn_prf(average, modifier, msg_start, len(result))\n"
          ]
        },
        {
          "output_type": "stream",
          "name": "stdout",
          "text": [
            "Epoch 9 / 100: train_loss: 0.0321 - valid_loss: 0.2331 - valid_accuracy: 0.8677 - valid_precision: 0.0000 - valid_recall: 0.0000 - valid_f1: 0.0000\r"
          ]
        },
        {
          "output_type": "stream",
          "name": "stderr",
          "text": [
            "/usr/local/lib/python3.8/dist-packages/sklearn/metrics/_classification.py:1318: UndefinedMetricWarning: Precision is ill-defined and being set to 0.0 due to no predicted samples. Use `zero_division` parameter to control this behavior.\n",
            "  _warn_prf(average, modifier, msg_start, len(result))\n"
          ]
        },
        {
          "output_type": "stream",
          "name": "stdout",
          "text": [
            "Epoch 11 / 100: train_loss: 0.0283 - valid_loss: 0.2206 - valid_accuracy: 0.8767 - valid_precision: 1.0000 - valid_recall: 0.0678 - valid_f1: 0.1270\n",
            "Epoch 21 / 100: train_loss: 0.0185 - valid_loss: 0.1846 - valid_accuracy: 0.9215 - valid_precision: 1.0000 - valid_recall: 0.4068 - valid_f1: 0.5783\n",
            "Epoch 31 / 100: train_loss: 0.0141 - valid_loss: 0.1669 - valid_accuracy: 0.9350 - valid_precision: 1.0000 - valid_recall: 0.5085 - valid_f1: 0.6742\n",
            "Epoch 41 / 100: train_loss: 0.0115 - valid_loss: 0.1560 - valid_accuracy: 0.9507 - valid_precision: 1.0000 - valid_recall: 0.6271 - valid_f1: 0.7708\n",
            "Epoch 51 / 100: train_loss: 0.0098 - valid_loss: 0.1487 - valid_accuracy: 0.9552 - valid_precision: 1.0000 - valid_recall: 0.6610 - valid_f1: 0.7959\n",
            "Epoch 61 / 100: train_loss: 0.0085 - valid_loss: 0.1435 - valid_accuracy: 0.9552 - valid_precision: 1.0000 - valid_recall: 0.6610 - valid_f1: 0.7959\n",
            "Epoch 71 / 100: train_loss: 0.0075 - valid_loss: 0.1395 - valid_accuracy: 0.9574 - valid_precision: 1.0000 - valid_recall: 0.6780 - valid_f1: 0.8081\n",
            "Epoch 81 / 100: train_loss: 0.0068 - valid_loss: 0.1364 - valid_accuracy: 0.9574 - valid_precision: 1.0000 - valid_recall: 0.6780 - valid_f1: 0.8081\n",
            "Epoch 91 / 100: train_loss: 0.0061 - valid_loss: 0.1339 - valid_accuracy: 0.9596 - valid_precision: 1.0000 - valid_recall: 0.6949 - valid_f1: 0.8200\n",
            "Epoch 100 / 100: train_loss: 0.0057 - valid_loss: 0.1321 - valid_accuracy: 0.9619 - valid_precision: 1.0000 - valid_recall: 0.7119 - valid_f1: 0.8317\n"
          ]
        }
      ],
      "source": [
        "np.random.seed(6666)\n",
        "\n",
        "num_epoch = 100\n",
        "lr = 1e-1\n",
        "batch_size = 4\n",
        "lambda_ = 1e-7\n",
        "print_every = 10\n",
        "\n",
        "model_mbgd = LogisticRegression(feature_dim=vocab_size, lambda_=lambda_)\n",
        "mbgd_train_history, mbgd_valid_history = train_mbgd(model_mbgd, x_train, y_train, x_valid, y_valid, lr, num_epoch, batch_size, print_every)"
      ],
      "id": "Hq-oxwsQKOTF"
    },
    {
      "cell_type": "markdown",
      "metadata": {
        "id": "c4rq4155KOTF"
      },
      "source": [
        "### 2.5 Evaluation \n",
        "You are required to report the loss, accuracy, precision, recall, and f1 on test set and plot the the curve of them for both SGD and Mini-batch GD on train and validation set"
      ],
      "id": "c4rq4155KOTF"
    },
    {
      "cell_type": "code",
      "execution_count": null,
      "metadata": {
        "id": "rBL5rDaLKOTF",
        "colab": {
          "base_uri": "https://localhost:8080/"
        },
        "outputId": "9bcc87ff-2099-466f-8995-97fe5749283c"
      },
      "outputs": [
        {
          "output_type": "stream",
          "name": "stdout",
          "text": [
            "0.9721973094170404 0.9661016949152542 0.8085106382978723 0.8803088803088803\n",
            "0.9695067264573991 0.9572649572649573 0.7943262411347518 0.8682170542635659\n"
          ]
        }
      ],
      "source": [
        "# Start your code here\n",
        "# Calculate the metrics for test set and fill in the table below\n",
        "# SGD\n",
        "y_hat_sgd = model_sgd.forward(x_test)\n",
        "y_pred_sgd = model_sgd.predict(y_hat_sgd)\n",
        "acc_sgd,prec_sgd,rec_sgd,f1_sgd = get_metrics(y_pred_sgd,y_test)\n",
        "# Mini-batch GD\n",
        "y_hat_mbgd = model_mbgd.forward(x_test)\n",
        "y_pred_mbgd = model_mbgd.predict(y_hat_mbgd)\n",
        "acc_mbgd,prec_mbgd,rec_mbgd,f1_mbgd = get_metrics(y_pred_mbgd,y_test)\n",
        "\n",
        "print(acc_sgd,prec_sgd,rec_sgd,f1_sgd)\n",
        "print(acc_mbgd,prec_mbgd,rec_mbgd,f1_mbgd)\n",
        "# End"
      ],
      "id": "rBL5rDaLKOTF"
    },
    {
      "cell_type": "markdown",
      "metadata": {
        "id": "ypPNoY_EKOTF"
      },
      "source": [
        "#### Evaluation Metrics on Test set\n",
        "Fill this table with the result you just printed (double click this cell to edit)\n",
        "\n",
        "|     Optimizer     | Accuracy    | Precision   | Recall      | F1 Score    |\n",
        "|:-----------------:|-------------|-------------|-------------|-------------|\n",
        "|      **SGD**      |    97.2%         | 96.6%            |   80.9%          |       88%      |\n",
        "| **Mini-batch GD** |    97%         |     95.7%        |       79.4%      |  86.8%           |"
      ],
      "id": "ypPNoY_EKOTF"
    },
    {
      "cell_type": "markdown",
      "metadata": {
        "id": "dJaO_CJFKOTF"
      },
      "source": [
        "##### Please run the following cell to plot the training loss curve for SGD and Mini-batch GD"
      ],
      "id": "dJaO_CJFKOTF"
    },
    {
      "cell_type": "code",
      "execution_count": null,
      "metadata": {
        "id": "MtcMtnEcKOTF",
        "colab": {
          "base_uri": "https://localhost:8080/",
          "height": 241
        },
        "outputId": "3181a3d7-9216-4e3e-f1e1-49a20b43e5d5"
      },
      "outputs": [
        {
          "output_type": "display_data",
          "data": {
            "text/plain": [
              "<Figure size 288x216 with 1 Axes>"
            ],
            "image/png": "[encoded data removed]"
          },
          "metadata": {
            "needs_background": "light"
          }
        }
      ],
      "source": [
        "import matplotlib.pyplot as plt\n",
        "\n",
        "%matplotlib inline\n",
        "\n",
        "fig = plt.figure(figsize=(4, 3))\n",
        "plt.plot(sgd_train_history['loss'], label='SGD')\n",
        "plt.plot(mbgd_train_history['loss'], label='Mini-batch GD')\n",
        "plt.xlabel('Epoch')\n",
        "plt.ylabel('Loss')\n",
        "plt.legend()\n",
        "plt.title('Training Loss')\n",
        "plt.show()"
      ],
      "id": "MtcMtnEcKOTF"
    },
    {
      "cell_type": "markdown",
      "metadata": {
        "id": "g5L85I7DKOTF"
      },
      "source": [
        "##### Please run the following cell to plot the validation metrics curve for SGD and Mini-batch GD"
      ],
      "id": "g5L85I7DKOTF"
    },
    {
      "cell_type": "code",
      "execution_count": null,
      "metadata": {
        "id": "YpNjiobmKOTG",
        "colab": {
          "base_uri": "https://localhost:8080/",
          "height": 241
        },
        "outputId": "980a6b51-c41c-4528-f805-4aaf41054230"
      },
      "outputs": [
        {
          "output_type": "display_data",
          "data": {
            "text/plain": [
              "<Figure size 1440x216 with 5 Axes>"
            ],
            "image/png": "[encoded data removed]"
          },
          "metadata": {
            "needs_background": "light"
          }
        }
      ],
      "source": [
        "fig, axes = plt.subplots(1, 5, figsize=(20, 3))\n",
        "for i, key in enumerate(sgd_valid_history.keys()):\n",
        "    sgd_vals, mbgd_vals = sgd_valid_history[key], mbgd_valid_history[key]\n",
        "    ax = axes[i]\n",
        "    ax.plot(sgd_vals, label='SGD')\n",
        "    ax.plot(mbgd_vals, label='Mini-batch GD')\n",
        "    ax.legend()\n",
        "    ax.set_xlabel('Epoch')\n",
        "    ax.set_title('Validation ' + key.capitalize())\n",
        "plt.show()"
      ],
      "id": "YpNjiobmKOTG"
    },
    {
      "cell_type": "markdown",
      "metadata": {
        "id": "PmVVCmqBKOTG"
      },
      "source": [
        "# 3. Conclusion \n",
        "\n",
        "Provide an analysis for all the results\n",
        "\n",
        "MBGD metrics: \n",
        "\n",
        "valid_accuracy: 0.9619 - valid_precision: 1.0000 - valid_recall: 0.7119 - \n",
        "valid_f1: 0.8317\n",
        "\n",
        "SGD metrics:\n",
        "\n",
        "\n",
        "valid_accuracy: 0.9596 - valid_precision: 0.9362 - valid_recall: 0.7458 - valid_f1: 0.8302\n"
      ],
      "id": "PmVVCmqBKOTG"
    },
    {
      "cell_type": "markdown",
      "metadata": {
        "id": "UfCK805bKOTG"
      },
      "source": [
        "\n",
        "1. We find that accuracy, recall and precision scores are quite similar in both sgd and mbgd models.\n",
        "2. As seen in the training loss curve, mbgd is smoother compared to sgd.\n",
        "3. Lower validation loss is observed in sgd.\n",
        "4. The dataset is heavily imbalanced (spam:ham ratio is very low)"
      ],
      "id": "UfCK805bKOTG"
    }
  ],
  "metadata": {
    "kernelspec": {
      "display_name": "Python 3",
      "language": "python",
      "name": "python3"
    },
    "language_info": {
      "codemirror_mode": {
        "name": "ipython",
        "version": 3
      },
      "file_extension": ".py",
      "mimetype": "text/x-python",
      "name": "python",
      "nbconvert_exporter": "python",
      "pygments_lexer": "ipython3",
      "version": "3.7.4"
    },
    "colab": {
      "provenance": [],
      "collapsed_sections": [
        "QxjxN8hcKOS_",
        "Kn3hjHNyKOTG"
      ]
    }
  },
  "nbformat": 4,
  "nbformat_minor": 5
}